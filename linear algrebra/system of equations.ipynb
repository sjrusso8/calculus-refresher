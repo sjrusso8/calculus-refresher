{
 "metadata": {
  "language_info": {
   "codemirror_mode": {
    "name": "ipython",
    "version": 3
   },
   "file_extension": ".py",
   "mimetype": "text/x-python",
   "name": "python",
   "nbconvert_exporter": "python",
   "pygments_lexer": "ipython3",
   "version": "3.8.5-final"
  },
  "orig_nbformat": 2,
  "kernelspec": {
   "name": "python3",
   "display_name": "Python 3.8.5 64-bit ('math': pipenv)",
   "metadata": {
    "interpreter": {
     "hash": "f1831cfef242be35fbe7a7cc76b6a8fb88a59ad5eaa7f346a9f93fbb54d40695"
    }
   }
  }
 },
 "nbformat": 4,
 "nbformat_minor": 2,
 "cells": [
  {
   "source": [
    "# SOURCE: Master math by coding in Python\n",
    "## SECTION: System of Equations\n",
    "\n"
   ],
   "cell_type": "markdown",
   "metadata": {}
  },
  {
   "cell_type": "code",
   "execution_count": 1,
   "metadata": {},
   "outputs": [],
   "source": [
    "import sympy as sym\n",
    "import matplotlib.pyplot as plt\n",
    "import numpy as np\n",
    "from IPython.display import display,Math"
   ]
  },
  {
   "source": [
    "## System of equations\n",
    "\n",
    "basic setup: A*x = b\n",
    "\n",
    "When the matrix A is not 'inverse'-able then the least-squares solution is your friend!\n",
    "\n",
    "![alt text](./images/Least-Squares-Solution.png \"Image\")\n",
    "\n",
    "\n",
    "\n"
   ],
   "cell_type": "markdown",
   "metadata": {}
  },
  {
   "cell_type": "code",
   "execution_count": 6,
   "metadata": {},
   "outputs": [
    {
     "output_type": "execute_result",
     "data": {
      "text/plain": [
       "array([ 3., -1.,  4.])"
      ]
     },
     "metadata": {},
     "execution_count": 6
    }
   ],
   "source": [
    "X = np.array([ [2,1,-1], [3,4,2], [1,-5,-2] ])\n",
    "Y = np.array([1,13,0])\n",
    "\n",
    "np.linalg.solve(X,Y)"
   ]
  },
  {
   "cell_type": "code",
   "execution_count": 9,
   "metadata": {},
   "outputs": [
    {
     "output_type": "stream",
     "name": "stdout",
     "text": [
      "[4. 6.]\n"
     ]
    }
   ],
   "source": [
    "# Quick exercise\n",
    "\n",
    "sa1 = np.array([ [3,-1], [-1,1] ])\n",
    "sa2 = np.array([6,2])\n",
    "\n",
    "# This has an infinite number of solutions\n",
    "sb1 = np.array([ [3,-1], [1.5, -.5] ])\n",
    "sb2 = np.array( [6,3] )\n",
    "\n",
    "# These lines never cross\n",
    "sc1 = np.array([ [3,-1], [1.5, -.5] ])\n",
    "sc2 = np.array([6,2])\n",
    "\n",
    "print(np.linalg.solve(sa1,sa2))\n",
    "# print(np.linalg.solve(sb1,sb2))\n",
    "# print(np.linalg.solve(sc1,sc2))"
   ]
  },
  {
   "cell_type": "code",
   "execution_count": null,
   "metadata": {},
   "outputs": [],
   "source": []
  }
 ]
}
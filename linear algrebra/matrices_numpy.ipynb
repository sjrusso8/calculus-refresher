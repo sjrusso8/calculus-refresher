{
 "metadata": {
  "language_info": {
   "codemirror_mode": {
    "name": "ipython",
    "version": 3
   },
   "file_extension": ".py",
   "mimetype": "text/x-python",
   "name": "python",
   "nbconvert_exporter": "python",
   "pygments_lexer": "ipython3",
   "version": "3.8.5-final"
  },
  "orig_nbformat": 2,
  "kernelspec": {
   "name": "Python 3.8.5 64-bit ('math': pipenv)",
   "display_name": "Python 3.8.5 64-bit ('math': pipenv)",
   "metadata": {
    "interpreter": {
     "hash": "f1831cfef242be35fbe7a7cc76b6a8fb88a59ad5eaa7f346a9f93fbb54d40695"
    }
   }
  }
 },
 "nbformat": 4,
 "nbformat_minor": 2,
 "cells": [
  {
   "source": [
    "# SOURCE: Master math by coding in Python\n",
    "## SECTION: Dot Product\n",
    "\n"
   ],
   "cell_type": "markdown",
   "metadata": {}
  },
  {
   "cell_type": "code",
   "execution_count": 1,
   "metadata": {},
   "outputs": [],
   "source": [
    "import sympy as sym\n",
    "import matplotlib.pyplot as plt\n",
    "import numpy as np\n",
    "from IPython.display import display,Math, Image"
   ]
  },
  {
   "source": [
    "## Dot Products\n",
    "\n",
    "The output of a dot product is always a single number.  \n",
    "\n",
    "![alt text](./images/dot-product.png \"Image\")\n",
    "\n"
   ],
   "cell_type": "markdown",
   "metadata": {}
  },
  {
   "cell_type": "code",
   "execution_count": 12,
   "metadata": {},
   "outputs": [
    {
     "output_type": "stream",
     "name": "stdout",
     "text": [
      "596 596 596\n"
     ]
    }
   ],
   "source": [
    "# Creating two arrays of ranges\n",
    "v = np.arange(10,20, 3)\n",
    "w = np.arange(5, 15,3)\n",
    "\n",
    "# Creating the dot product based on the big equation\n",
    "dp1 = 0\n",
    "for i in range(0, len(v)):\n",
    "    dp1 = dp1 + v[i] * w[i]\n",
    "\n",
    "# Using Numpy for multiplication\n",
    "dp2 = np.sum( np.multiply(v,w))\n",
    "\n",
    "# Using numpy dot\n",
    "dp3 = np.dot(v,w)\n",
    "print(dp1, dp2, dp3)\n"
   ]
  },
  {
   "cell_type": "code",
   "execution_count": null,
   "metadata": {},
   "outputs": [],
   "source": []
  }
 ]
}
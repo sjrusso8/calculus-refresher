{
 "metadata": {
  "language_info": {
   "codemirror_mode": {
    "name": "ipython",
    "version": 3
   },
   "file_extension": ".py",
   "mimetype": "text/x-python",
   "name": "python",
   "nbconvert_exporter": "python",
   "pygments_lexer": "ipython3",
   "version": "3.8.5-final"
  },
  "orig_nbformat": 2,
  "kernelspec": {
   "name": "Python 3.8.5 64-bit ('math': pipenv)",
   "display_name": "Python 3.8.5 64-bit ('math': pipenv)",
   "metadata": {
    "interpreter": {
     "hash": "f1831cfef242be35fbe7a7cc76b6a8fb88a59ad5eaa7f346a9f93fbb54d40695"
    }
   }
  }
 },
 "nbformat": 4,
 "nbformat_minor": 2,
 "cells": [
  {
   "source": [
    "# SOURCE: Master math by coding in Python\n",
    "## SECTION: Matrix Math\n",
    "\n"
   ],
   "cell_type": "markdown",
   "metadata": {}
  },
  {
   "cell_type": "code",
   "execution_count": 3,
   "metadata": {},
   "outputs": [],
   "source": [
    "import sympy as sym\n",
    "import matplotlib.pyplot as plt\n",
    "import numpy as np\n",
    "from IPython.display import display,Math, Image"
   ]
  },
  {
   "source": [
    "## Matrix Math\n",
    "\n",
    "The sizes are important!  \n",
    "\n",
    "The inner sizes must match\n",
    "\n",
    "![alt text](./images/matrix-multi.png \"Image\")\n",
    "\n"
   ],
   "cell_type": "markdown",
   "metadata": {}
  },
  {
   "source": [
    "Inner values must match"
   ],
   "cell_type": "markdown",
   "metadata": {}
  },
  {
   "cell_type": "code",
   "execution_count": 9,
   "metadata": {},
   "outputs": [
    {
     "output_type": "stream",
     "name": "stdout",
     "text": [
      "(14, 14)\n(14, 14)\n(10, 10)\n"
     ]
    }
   ],
   "source": [
    "A = np.random.randn(14,10)\n",
    "B = np.random.randn(14,10)\n",
    "C = np.random.randn(10,14)\n",
    "\n",
    "# Error, 14x10 can not be mulitpled by 10x14\n",
    "# A@B\n",
    "\n",
    "print(np.shape(A@C))\n",
    "print(np.shape(B@C))\n",
    "print(np.shape(C@A))"
   ]
  },
  {
   "source": [
    "How this works...\n",
    "\n",
    "A bunch of dot products.  The final matrix is made up of the row dot product of the left matrix and the column dot product of the right matrix\n",
    "\n",
    "![alt text](./images/matrix-multi2.png \"Image\")\n",
    "\n"
   ],
   "cell_type": "markdown",
   "metadata": {}
  }
 ]
}
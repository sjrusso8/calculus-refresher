{
 "metadata": {
  "language_info": {
   "codemirror_mode": {
    "name": "ipython",
    "version": 3
   },
   "file_extension": ".py",
   "mimetype": "text/x-python",
   "name": "python",
   "nbconvert_exporter": "python",
   "pygments_lexer": "ipython3",
   "version": "3.8.5-final"
  },
  "orig_nbformat": 2,
  "kernelspec": {
   "name": "Python 3.8.5 64-bit ('math': pipenv)",
   "display_name": "Python 3.8.5 64-bit ('math': pipenv)",
   "metadata": {
    "interpreter": {
     "hash": "f1831cfef242be35fbe7a7cc76b6a8fb88a59ad5eaa7f346a9f93fbb54d40695"
    }
   }
  }
 },
 "nbformat": 4,
 "nbformat_minor": 2,
 "cells": [
  {
   "source": [
    "# SOURCE: Master math by coding in Python\n",
    "## SECTION: Matrix Math\n",
    "\n"
   ],
   "cell_type": "markdown",
   "metadata": {}
  },
  {
   "cell_type": "code",
   "execution_count": 3,
   "metadata": {},
   "outputs": [],
   "source": [
    "import sympy as sym\n",
    "import matplotlib.pyplot as plt\n",
    "import numpy as np\n",
    "from IPython.display import display,Math, Image"
   ]
  },
  {
   "source": [
    "## Matrix Math\n",
    "\n",
    "The sizes are important!  \n",
    "\n",
    "The inner sizes must match\n",
    "\n",
    "![alt text](./images/matrix-multi.png \"Image\")\n",
    "\n"
   ],
   "cell_type": "markdown",
   "metadata": {}
  },
  {
   "source": [
    "Inner values must match"
   ],
   "cell_type": "markdown",
   "metadata": {}
  },
  {
   "cell_type": "code",
   "execution_count": 9,
   "metadata": {},
   "outputs": [
    {
     "output_type": "stream",
     "name": "stdout",
     "text": [
      "(14, 14)\n(14, 14)\n(10, 10)\n"
     ]
    }
   ],
   "source": [
    "A = np.random.randn(14,10)\n",
    "B = np.random.randn(14,10)\n",
    "C = np.random.randn(10,14)\n",
    "\n",
    "# Error, 14x10 can not be mulitpled by 10x14\n",
    "# A@B\n",
    "\n",
    "print(np.shape(A@C))\n",
    "print(np.shape(B@C))\n",
    "print(np.shape(C@A))"
   ]
  },
  {
   "source": [
    "How this works...\n",
    "\n",
    "A bunch of dot products.  The final matrix is made up of the row dot product of the left matrix and the column dot product of the right matrix\n",
    "\n",
    "![alt text](./images/matrix-multi2.png \"Image\")\n",
    "\n"
   ],
   "cell_type": "markdown",
   "metadata": {}
  },
  {
   "source": [
    "## Transpose a vector\n",
    "\n",
    "Column to row basically.  Transpose twice is like 4 left turns, you end where you started"
   ],
   "cell_type": "markdown",
   "metadata": {}
  },
  {
   "cell_type": "code",
   "execution_count": 10,
   "metadata": {},
   "outputs": [],
   "source": [
    "# doing this in numpy\n",
    "r = np.random.randn(1,10)\n",
    "\n",
    "rt1 = np.transpose(r)\n",
    "# The easy way is to call a method on the np.array\n",
    "rt2 = r.T"
   ]
  },
  {
   "cell_type": "code",
   "execution_count": 11,
   "metadata": {},
   "outputs": [
    {
     "output_type": "execute_result",
     "data": {
      "text/plain": [
       "array([[-0.21470908],\n",
       "       [-0.01528575],\n",
       "       [-1.24812317],\n",
       "       [-0.26281835],\n",
       "       [ 0.06121439],\n",
       "       [-0.53363215],\n",
       "       [ 0.22255214],\n",
       "       [ 0.47604205],\n",
       "       [ 0.36225788],\n",
       "       [ 0.79036572]])"
      ]
     },
     "metadata": {},
     "execution_count": 11
    }
   ],
   "source": [
    "rt1"
   ]
  },
  {
   "cell_type": "code",
   "execution_count": 12,
   "metadata": {},
   "outputs": [
    {
     "output_type": "execute_result",
     "data": {
      "text/plain": [
       "array([[-0.21470908],\n",
       "       [-0.01528575],\n",
       "       [-1.24812317],\n",
       "       [-0.26281835],\n",
       "       [ 0.06121439],\n",
       "       [-0.53363215],\n",
       "       [ 0.22255214],\n",
       "       [ 0.47604205],\n",
       "       [ 0.36225788],\n",
       "       [ 0.79036572]])"
      ]
     },
     "metadata": {},
     "execution_count": 12
    }
   ],
   "source": [
    "rt2"
   ]
  },
  {
   "cell_type": "code",
   "execution_count": 13,
   "metadata": {},
   "outputs": [
    {
     "output_type": "display_data",
     "data": {
      "text/plain": "<Figure size 432x288 with 2 Axes>",
      "image/svg+xml": "<?xml version=\"1.0\" encoding=\"utf-8\" standalone=\"no\"?>\r\n<!DOCTYPE svg PUBLIC \"-//W3C//DTD SVG 1.1//EN\"\r\n  \"http://www.w3.org/Graphics/SVG/1.1/DTD/svg11.dtd\">\r\n<!-- Created with matplotlib (https://matplotlib.org/) -->\r\n<svg height=\"250.458125pt\" version=\"1.1\" viewBox=\"0 0 330.969091 250.458125\" width=\"330.969091pt\" xmlns=\"http://www.w3.org/2000/svg\" xmlns:xlink=\"http://www.w3.org/1999/xlink\">\r\n <metadata>\r\n  <rdf:RDF xmlns:cc=\"http://creativecommons.org/ns#\" xmlns:dc=\"http://purl.org/dc/elements/1.1/\" xmlns:rdf=\"http://www.w3.org/1999/02/22-rdf-syntax-ns#\">\r\n   <cc:Work>\r\n    <dc:type rdf:resource=\"http://purl.org/dc/dcmitype/StillImage\"/>\r\n    <dc:date>2020-11-11T16:51:39.915362</dc:date>\r\n    <dc:format>image/svg+xml</dc:format>\r\n    <dc:creator>\r\n     <cc:Agent>\r\n      <dc:title>Matplotlib v3.3.2, https://matplotlib.org/</dc:title>\r\n     </cc:Agent>\r\n    </dc:creator>\r\n   </cc:Work>\r\n  </rdf:RDF>\r\n </metadata>\r\n <defs>\r\n  <style type=\"text/css\">*{stroke-linecap:butt;stroke-linejoin:round;}</style>\r\n </defs>\r\n <g id=\"figure_1\">\r\n  <g id=\"patch_1\">\r\n   <path d=\"M 0 250.458125 \r\nL 330.969091 250.458125 \r\nL 330.969091 0 \r\nL 0 0 \r\nz\r\n\" style=\"fill:none;\"/>\r\n  </g>\r\n  <g id=\"axes_1\">\r\n   <g id=\"patch_2\">\r\n    <path d=\"M 10.7 239.758125 \r\nL 119.42 239.758125 \r\nL 119.42 22.318125 \r\nL 10.7 22.318125 \r\nz\r\n\" style=\"fill:#ffffff;\"/>\r\n   </g>\r\n   <g clip-path=\"url(#p51d1e5406c)\">\r\n    <image height=\"218\" id=\"imagebe8edd3345\" transform=\"scale(1 -1)translate(0 -218)\" width=\"109\" x=\"10.7\" xlink:href=\"data:image/png;base64,\r\niVBORw0KGgoAAAANSUhEUgAAAG0AAADaCAYAAACsN8ybAAAC90lEQVR4nO3cscoXZBiH4eefn7U4ZaK2RGCFTdHU3O6Uk1M0iS4tjuEkBOUmpC7SGbQH4aLRAbRlohBtDkEiQXydRDxww3WdwG+4ebaX9/DxF7ePZ8mbD37empo/f7i4tjUzc/bbN9a2Xltb4n8jWpBoQaIFiRYkWpBoQaIFiRYkWpBoQaIFiRYkWpBoQaIFiRYkWpBoQaIFiRYkWpBoQaIFiRYkWtDRi09frY2d//zc2tbpf16ubc3MPLv++tqWSwsSLUi0INGCRAsSLUi0INGCRAsSLUi0INGCRAsSLUi0INGCRAsSLUi0INGCRAsSLUi0INGCRAsSLUi0oMOjp++uffH+5VfXt6bmxaXdt/xzfFibcmlBogWJFiRakGhBogWJFiRakGhBogWJFiRakGhBogWJFiRakGhBogWJFiRakGhBogWJFiRakGhBogUd3rnzzdqz8N8/u7c1NR9+d21ta2bm1Xt7X+W7tCDRgkQLEi1ItCDRgkQLEi1ItCDRgkQLEi1ItCDRgkQLEi1ItCDRgkQLEi1ItCDRgkQLEi1ItCDRgo7efrg39skvV9e2Tr61NjUzM1c+ery25dKCRAsSLUi0INGCRAsSLUi0INGCRAsSLUi0INGCRAsSLUi0INGCRAsSLUi0INGCRAsSLUi0INGCRAs6/Pb83Npv4T++fH9rar7+6dLa1szMB/f/WttyaUGiBYkWJFqQaEGiBYkWJFqQaEGiBYkWJFqQaEGiBYkWJFqQaEGiBYkWJFqQaEGiBYkWJFqQaEGiBYkWdHT51o21sZs3vl/bOvXkxNrWzMyZu3+sbbm0INGCRAsSLUi0INGCRAsSLUi0INGCRAsSLUi0INGCRAsSLUi0INGCRAsSLUi0INGCRAsSLUi0INGCDhdu3V774v148aX20d+HvbGZOf3rv2tbLi1ItCDRgkQLEi1ItCDRgkQLEi1ItCDRgkQLEi1ItCDRgkQLEi1ItCDRgkQLEi1ItCDRgkQLEi1ItKD/AFD+M2+VBxkeAAAAAElFTkSuQmCC\" y=\"-21.758125\"/>\r\n   </g>\r\n   <g id=\"matplotlib.axis_1\"/>\r\n   <g id=\"matplotlib.axis_2\"/>\r\n   <g id=\"patch_3\">\r\n    <path d=\"M 10.7 239.758125 \r\nL 10.7 22.318125 \r\n\" style=\"fill:none;stroke:#000000;stroke-linecap:square;stroke-linejoin:miter;stroke-width:0.8;\"/>\r\n   </g>\r\n   <g id=\"patch_4\">\r\n    <path d=\"M 119.42 239.758125 \r\nL 119.42 22.318125 \r\n\" style=\"fill:none;stroke:#000000;stroke-linecap:square;stroke-linejoin:miter;stroke-width:0.8;\"/>\r\n   </g>\r\n   <g id=\"patch_5\">\r\n    <path d=\"M 10.7 239.758125 \r\nL 119.42 239.758125 \r\n\" style=\"fill:none;stroke:#000000;stroke-linecap:square;stroke-linejoin:miter;stroke-width:0.8;\"/>\r\n   </g>\r\n   <g id=\"patch_6\">\r\n    <path d=\"M 10.7 22.318125 \r\nL 119.42 22.318125 \r\n\" style=\"fill:none;stroke:#000000;stroke-linecap:square;stroke-linejoin:miter;stroke-width:0.8;\"/>\r\n   </g>\r\n   <g id=\"text_1\">\r\n    <!-- M -->\r\n    <g transform=\"translate(59.883125 16.318125)scale(0.12 -0.12)\">\r\n     <defs>\r\n      <path d=\"M 9.8125 72.90625 \r\nL 24.515625 72.90625 \r\nL 43.109375 23.296875 \r\nL 61.8125 72.90625 \r\nL 76.515625 72.90625 \r\nL 76.515625 0 \r\nL 66.890625 0 \r\nL 66.890625 64.015625 \r\nL 48.09375 14.015625 \r\nL 38.1875 14.015625 \r\nL 19.390625 64.015625 \r\nL 19.390625 0 \r\nL 9.8125 0 \r\nz\r\n\" id=\"DejaVuSans-77\"/>\r\n     </defs>\r\n     <use xlink:href=\"#DejaVuSans-77\"/>\r\n    </g>\r\n   </g>\r\n  </g>\r\n  <g id=\"axes_2\">\r\n   <g id=\"patch_7\">\r\n    <path d=\"M 171.587273 169.08358 \r\nL 323.769091 169.08358 \r\nL 323.769091 92.99267 \r\nL 171.587273 92.99267 \r\nz\r\n\" style=\"fill:#ffffff;\"/>\r\n   </g>\r\n   <g clip-path=\"url(#pa0943edbcd)\">\r\n    <image height=\"77\" id=\"imagea27eb60311\" transform=\"scale(1 -1)translate(0 -77)\" width=\"153\" x=\"171.587273\" xlink:href=\"data:image/png;base64,\r\niVBORw0KGgoAAAANSUhEUgAAAJkAAABNCAYAAAC188aDAAABwUlEQVR4nO3asUoVABTG8XPzGmFdkBodRAwafIGwxcUpaGiNaAlxVnQJR0G41JY0CRE0+Qxu0phNDU05RCQNgrl0I5/A7Xzb7/cA3/TnTGew/HT8v5osbH/tmqqz9bm2rUcfPrdtHZwst21VVQ2n/7XudZl/O2jbutG2BNcQGXEiI05kxImMOJERJzLiREacyIgTGXEiI05kxImMOJERJzLiREacyIgTGXGDBztv2t6vh5ddS1UXi31vyaNvU21bf0dtU1VVNVm6aNuau3fetvX7z0zblktGnMiIExlxIiNOZMSJjDiREScy4kRGnMiIExlxIiNOZMSJjDiREScy4kRGnMiIExlxw8ntthf/2nvxvm3r52S2bevg05O2rS/b79q2qqoebq23bY3WfrVt3Vz93rblkhEnMuJERpzIiBMZcSIjTmTEiYw4kREnMuJERpzIiBMZcSIjTmTEiYw4kREnMuIG93dft/1f3zntWqo6fDVu23q+sdm29WOlbaqqqj4+3m/benb8sm3r7tGtti2XjDiREScy4kRGnMiIExlxIiNOZMSJjDiREScy4kRGnMiIExlxIiNOZMSJjDiREXcF7b0uxmmISM4AAAAASUVORK5CYII=\" y=\"-92.08358\"/>\r\n   </g>\r\n   <g id=\"matplotlib.axis_3\"/>\r\n   <g id=\"matplotlib.axis_4\"/>\r\n   <g id=\"patch_8\">\r\n    <path d=\"M 171.587273 169.08358 \r\nL 171.587273 92.99267 \r\n\" style=\"fill:none;stroke:#000000;stroke-linecap:square;stroke-linejoin:miter;stroke-width:0.8;\"/>\r\n   </g>\r\n   <g id=\"patch_9\">\r\n    <path d=\"M 323.769091 169.08358 \r\nL 323.769091 92.99267 \r\n\" style=\"fill:none;stroke:#000000;stroke-linecap:square;stroke-linejoin:miter;stroke-width:0.8;\"/>\r\n   </g>\r\n   <g id=\"patch_10\">\r\n    <path d=\"M 171.587273 169.08358 \r\nL 323.769091 169.08358 \r\n\" style=\"fill:none;stroke:#000000;stroke-linecap:square;stroke-linejoin:miter;stroke-width:0.8;\"/>\r\n   </g>\r\n   <g id=\"patch_11\">\r\n    <path d=\"M 171.587273 92.99267 \r\nL 323.769091 92.99267 \r\n\" style=\"fill:none;stroke:#000000;stroke-linecap:square;stroke-linejoin:miter;stroke-width:0.8;\"/>\r\n   </g>\r\n   <g id=\"text_2\">\r\n    <!-- M$^T$ -->\r\n    <g transform=\"translate(239.698182 86.99267)scale(0.12 -0.12)\">\r\n     <defs>\r\n      <path d=\"M 5.90625 72.90625 \r\nL 67.578125 72.90625 \r\nL 66.015625 64.59375 \r\nL 39.984375 64.59375 \r\nL 27.484375 0 \r\nL 17.578125 0 \r\nL 30.078125 64.59375 \r\nL 4.296875 64.59375 \r\nz\r\n\" id=\"DejaVuSans-Oblique-84\"/>\r\n     </defs>\r\n     <use transform=\"translate(0 0.684375)\" xlink:href=\"#DejaVuSans-77\"/>\r\n     <use transform=\"translate(87.236328 38.965625)scale(0.7)\" xlink:href=\"#DejaVuSans-Oblique-84\"/>\r\n    </g>\r\n   </g>\r\n  </g>\r\n </g>\r\n <defs>\r\n  <clipPath id=\"p51d1e5406c\">\r\n   <rect height=\"217.44\" width=\"108.72\" x=\"10.7\" y=\"22.318125\"/>\r\n  </clipPath>\r\n  <clipPath id=\"pa0943edbcd\">\r\n   <rect height=\"76.090909\" width=\"152.181818\" x=\"171.587273\" y=\"92.99267\"/>\r\n  </clipPath>\r\n </defs>\r\n</svg>\r\n",
      "image/png": "[encoded data removed]"
     },
     "metadata": {}
    }
   ],
   "source": [
    "# matrix and image\n",
    "mat = np.random.randn(8,4)\n",
    "matT = mat.T\n",
    "\n",
    "fig,ax = plt.subplots(1,2)\n",
    "ax[0].imshow(mat)\n",
    "ax[0].set_title('M')\n",
    "\n",
    "ax[1].imshow(matT)\n",
    "ax[1].set_title('M$^T$')\n",
    "\n",
    "# set common properties\n",
    "for i in ax:\n",
    "    i.set_yticks([])\n",
    "    i.set_xticks([])\n",
    "\n",
    "plt.show()"
   ]
  },
  {
   "cell_type": "code",
   "execution_count": null,
   "metadata": {},
   "outputs": [],
   "source": []
  }
 ]
}
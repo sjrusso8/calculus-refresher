{
 "metadata": {
  "language_info": {
   "codemirror_mode": {
    "name": "ipython",
    "version": 3
   },
   "file_extension": ".py",
   "mimetype": "text/x-python",
   "name": "python",
   "nbconvert_exporter": "python",
   "pygments_lexer": "ipython3",
   "version": "3.8.5-final"
  },
  "orig_nbformat": 2,
  "kernelspec": {
   "name": "python3",
   "display_name": "Python 3.8.5 64-bit ('standardenv': conda)",
   "metadata": {
    "interpreter": {
     "hash": "96b3fd1559923f45a2a7d38e899d8d549575064782cdf1848d466cdc642efcd4"
    }
   }
  }
 },
 "nbformat": 4,
 "nbformat_minor": 2,
 "cells": [
  {
   "source": [
    "# Linear Algebra with Tensorflow\n",
    "\n",
    "Leveraging almost all from this post https://biswajitsahoo1111.github.io/post/doing-linear-algebra-using-tensorflow-2/\n",
    "\n",
    "Why do this?  \n",
    "\n",
    "I want to get a better understanding of both Tensorflow and Linear Algebra.  So why not both?\n",
    "\n",
    "This is leveraging the tf.linalg followed by the function name.  It's redundant, but w/e.\n",
    "\n",
    "This mainly focuses on 1D and 2D arrays in these examples.  But TF operations are not limited to 2D arrays.  If an array has more than 2 dimensions, the matrix operation is done on the **last two** dimensions and the same operation is carried across other dimensions.  \n",
    "\n",
    "For example a tensor of shape (3,5,5) can be thought of as 3 matrices each of shape (5,5).  When we call a matrix function on an array, the matrix function is applied to all 3 matrices of shape (5,5). The same is true for the higher dims\n"
   ],
   "cell_type": "markdown",
   "metadata": {}
  },
  {
   "source": [
    "# Sections\n",
    "\n",
    "- [Basics](#basics)\n",
    "    * [Creating Tensors]\n",
    "    * [Generating Sequences]\n",
    "    * [Modifying a Tensors]\n",
    "- [Matrcies]\n",
    "    * [Creating Complex Matrcies]\n",
    "    * [Transposing Matrcies]\n",
    "    * [Creating Common Matrcies]\n",
    "        * [Identity Matrix]\n",
    "        * [Diagonal Matrix]\n",
    "        * [Tri-diagonal Matrix]\n",
    "        * [Zeros/Ones Matrix]\n",
    "        * [Random Matrices]\n",
    "    * [Sparse Matrcies]\n",
    "- [Matrix Multi]\n",
    "    * [Inner Product]\n",
    "    * [Outer Product]\n",
    "    * [Matrix with a Vector]\n",
    "    * [Matrix with a Matrix]\n",
    "    * [Two Tri-diagonal matrices]\n",
    "- [More Matrix Operations]\n",
    "    * [Trace]\n",
    "    * [Determinant]\n",
    "    * [Rank]\n",
    "    * [Inverse]\n",
    "    * [Extract diagonal of a matrix]\n",
    "    * [Extract band part of a matrix]"
   ],
   "cell_type": "markdown",
   "metadata": {}
  },
  {
   "cell_type": "code",
   "execution_count": 2,
   "metadata": {},
   "outputs": [
    {
     "output_type": "stream",
     "name": "stdout",
     "text": [
      "2.3.0\n"
     ]
    }
   ],
   "source": [
    "import tensorflow as tf\n",
    "print(tf.__version__)"
   ]
  },
  {
   "source": [
    "## Basics\n",
    "\n",
    "Everything revolved around `tensors`.`Tensors` are characterized by their rank.  Check out this table and the rank.\n",
    "\n",
    "| Tensors      | Rank |\n",
    "| -----------  | ----------- |\n",
    "| Scalars      | Rank 0       |\n",
    "| Vectors      | Rank 1        |\n",
    "| Matrices     | Rank 2       |\n",
    "| 3D array     | Rank 3        |\n",
    "\n",
    "### Creating Tensors\n",
    "Let's get down to business.  Starting from scalars to multi-dim arrays.  Just the real ones."
   ],
   "cell_type": "markdown",
   "metadata": {}
  },
  {
   "cell_type": "code",
   "execution_count": 2,
   "metadata": {},
   "outputs": [
    {
     "output_type": "execute_result",
     "data": {
      "text/plain": [
       "<tf.Tensor: shape=(), dtype=float32, numpy=5.0>"
      ]
     },
     "metadata": {},
     "execution_count": 2
    }
   ],
   "source": [
    "a = tf.constant(5.0)\n",
    "a"
   ]
  },
  {
   "source": [
    "Let's explain out what is shown.\n",
    "\n",
    "1. `tf.Tensor` - this is a TF tensor \n",
    "2. `shape=()` - this is of rank 0 and therefore a scalar\n",
    "3. `dtype=float32` - this defines the type of values, so a floating point value\n",
    "4. `numpy` - this is the actual value of the tensor\n",
    "\n",
    "1D `tensors` are vectors while 2D `tensors` are **matrics**"
   ],
   "cell_type": "markdown",
   "metadata": {}
  },
  {
   "source": [
    "tf.constant([1,3,7,9])  # only one shape result is used for vectors"
   ],
   "cell_type": "code",
   "metadata": {},
   "execution_count": 3,
   "outputs": [
    {
     "output_type": "execute_result",
     "data": {
      "text/plain": [
       "<tf.Tensor: shape=(4,), dtype=int32, numpy=array([1, 3, 7, 9])>"
      ]
     },
     "metadata": {},
     "execution_count": 3
    }
   ]
  },
  {
   "cell_type": "code",
   "execution_count": 4,
   "metadata": {},
   "outputs": [
    {
     "output_type": "execute_result",
     "data": {
      "text/plain": [
       "<tf.Tensor: shape=(2, 4), dtype=int32, numpy=\n",
       "array([[1, 2, 3, 4],\n",
       "       [3, 4, 5, 3]])>"
      ]
     },
     "metadata": {},
     "execution_count": 4
    }
   ],
   "source": [
    "tf.constant([[1,2,3,4],\n",
    "            [3,4,5,3]]) # to params are returns as (rows, columns)"
   ]
  },
  {
   "cell_type": "code",
   "execution_count": 5,
   "metadata": {},
   "outputs": [
    {
     "output_type": "execute_result",
     "data": {
      "text/plain": [
       "<tf.Tensor: shape=(2, 3), dtype=int32, numpy=\n",
       "array([[1, 2, 3],\n",
       "       [4, 5, 6]])>"
      ]
     },
     "metadata": {},
     "execution_count": 5
    }
   ],
   "source": [
    "# The one above can also be defined as the following by providing a shape arg\n",
    "tf.constant([1,2,3,4,5,6], shape=(2,3))"
   ]
  },
  {
   "source": [
    "### Creating a sequence of numbers\n",
    "\n",
    "Two main ways to create sequences of numbers in `Tensorflow`.  Functions `tf.range` and `tf.linspace` are used.\n",
    "\n",
    "`Range` is an exclusive operation and will not include the last value in the range specified."
   ],
   "cell_type": "markdown",
   "metadata": {}
  },
  {
   "cell_type": "code",
   "execution_count": 8,
   "metadata": {},
   "outputs": [
    {
     "output_type": "execute_result",
     "data": {
      "text/plain": [
       "array([1, 2, 3, 4, 5, 6, 7, 8, 9])"
      ]
     },
     "metadata": {},
     "execution_count": 8
    }
   ],
   "source": [
    "seq = tf.range(start=1, limit=10, delta=1)\n",
    "seq.numpy()"
   ]
  },
  {
   "cell_type": "code",
   "execution_count": 9,
   "metadata": {},
   "outputs": [
    {
     "output_type": "execute_result",
     "data": {
      "text/plain": [
       "array([ 1. ,  2.5,  4. ,  5.5,  7. ,  8.5, 10. , 11.5, 13. , 14.5, 16. ,\n",
       "       17.5, 19. , 20.5], dtype=float32)"
      ]
     },
     "metadata": {},
     "execution_count": 9
    }
   ],
   "source": [
    "seq = tf.range(start=1, limit=22, delta=1.5)\n",
    "seq.numpy()"
   ]
  },
  {
   "cell_type": "code",
   "execution_count": 14,
   "metadata": {},
   "outputs": [
    {
     "output_type": "execute_result",
     "data": {
      "text/plain": [
       "array([ 1.   ,  1.375,  1.75 ,  2.125,  2.5  ,  2.875,  3.25 ,  3.625,\n",
       "        4.   ,  4.375,  4.75 ,  5.125,  5.5  ,  5.875,  6.25 ,  6.625,\n",
       "        7.   ,  7.375,  7.75 ,  8.125,  8.5  ,  8.875,  9.25 ,  9.625,\n",
       "       10.   ], dtype=float32)"
      ]
     },
     "metadata": {},
     "execution_count": 14
    }
   ],
   "source": [
    "tf.linspace(start = 1.0, stop = 10, num = 25).numpy() "
   ]
  },
  {
   "source": [
    "Therefore, it's really easy to create matrices using `range` or `linspace`"
   ],
   "cell_type": "markdown",
   "metadata": {}
  },
  {
   "cell_type": "code",
   "execution_count": 15,
   "metadata": {},
   "outputs": [
    {
     "output_type": "execute_result",
     "data": {
      "text/plain": [
       "<tf.Tensor: shape=(2, 3, 2), dtype=int32, numpy=\n",
       "array([[[ 1,  2],\n",
       "        [ 3,  4],\n",
       "        [ 5,  6]],\n",
       "\n",
       "       [[ 7,  8],\n",
       "        [ 9, 10],\n",
       "        [11, 12]]])>"
      ]
     },
     "metadata": {},
     "execution_count": 15
    }
   ],
   "source": [
    "tf.constant(tf.range(1,13), shape=(2,3,2)) # read like 2 matricies of 3 rows and 2 columns"
   ]
  },
  {
   "source": [
    "### Slicing Tensors\n",
    "\n",
    "This is very similar to `numpy` slicing.  By using the `[]` at the end of the vector, you can slice by row/columns"
   ],
   "cell_type": "markdown",
   "metadata": {}
  },
  {
   "cell_type": "code",
   "execution_count": 17,
   "metadata": {},
   "outputs": [
    {
     "output_type": "execute_result",
     "data": {
      "text/plain": [
       "array([4, 5, 6, 7])"
      ]
     },
     "metadata": {},
     "execution_count": 17
    }
   ],
   "source": [
    "tf.range(1,10)[3:7].numpy() # same as the python convention of slicing.  It starts at 0 for incrementing"
   ]
  },
  {
   "cell_type": "code",
   "execution_count": 18,
   "metadata": {},
   "outputs": [
    {
     "output_type": "execute_result",
     "data": {
      "text/plain": [
       "<tf.Tensor: shape=(4, 5), dtype=float32, numpy=\n",
       "array([[ 0.,  1.,  2.,  3.,  4.],\n",
       "       [ 5.,  6.,  7.,  8.,  9.],\n",
       "       [10., 11., 12., 13., 14.],\n",
       "       [15., 16., 17., 18., 19.]], dtype=float32)>"
      ]
     },
     "metadata": {},
     "execution_count": 18
    }
   ],
   "source": [
    "m = tf.constant(tf.range(20, dtype=tf.float32), shape=(4,5))\n",
    "m"
   ]
  },
  {
   "cell_type": "code",
   "execution_count": 19,
   "metadata": {},
   "outputs": [
    {
     "output_type": "execute_result",
     "data": {
      "text/plain": [
       "<tf.Tensor: shape=(2, 2), dtype=float32, numpy=\n",
       "array([[ 7.,  8.],\n",
       "       [12., 13.]], dtype=float32)>"
      ]
     },
     "metadata": {},
     "execution_count": 19
    }
   ],
   "source": [
    "m[1:3, 2:4]"
   ]
  },
  {
   "source": [
    "### Modifying the elements of a tensor\n",
    "\n",
    "`Tensors` are mostly immutable.  So assigning a new value by position will result in an error.\n",
    "\n",
    "`Variable Tensors`, also defined as `tf.Variable`, can be modified after their creation.  So if you want to modify a tensor after the creation, then you must assign it to a variable.  You can also use the `assign` command."
   ],
   "cell_type": "markdown",
   "metadata": {}
  },
  {
   "cell_type": "code",
   "execution_count": 22,
   "metadata": {},
   "outputs": [
    {
     "output_type": "execute_result",
     "data": {
      "text/plain": [
       "<tf.Variable 'Variable:0' shape=(3, 4) dtype=float32, numpy=\n",
       "array([[ 0.,  1.,  2.,  3.],\n",
       "       [ 4.,  5.,  6.,  7.],\n",
       "       [ 8.,  9., 10., 11.]], dtype=float32)>"
      ]
     },
     "metadata": {},
     "execution_count": 22
    }
   ],
   "source": [
    "var_mt = tf.Variable(tf.constant(tf.range(12, dtype=tf.float32), shape=(3,4)))\n",
    "var_mt"
   ]
  },
  {
   "cell_type": "code",
   "execution_count": 23,
   "metadata": {},
   "outputs": [
    {
     "output_type": "execute_result",
     "data": {
      "text/plain": [
       "<tf.Variable 'Variable:0' shape=(3, 4) dtype=float32, numpy=\n",
       "array([[ 0.,  1., -1., -1.],\n",
       "       [ 4.,  5., -1., -1.],\n",
       "       [ 8.,  9., 10., 11.]], dtype=float32)>"
      ]
     },
     "metadata": {},
     "execution_count": 23
    }
   ],
   "source": [
    "# modify the matrix\n",
    "\n",
    "var_mt[:2, 2:4].assign(-1*tf.ones(shape=(2,2)))\n",
    "var_mt"
   ]
  },
  {
   "source": [
    "## Matrices\n",
    "### Creating complex matrices\n",
    "\n",
    "To create a complex matrix, you create the rale part and the imaginary part seperately. Then both real and imagine parts can be combined element wise to create a complex matrix.  Elements of both should be floats.\n",
    "\n",
    "There is an easy way and a hard way"
   ],
   "cell_type": "markdown",
   "metadata": {}
  },
  {
   "cell_type": "code",
   "execution_count": 25,
   "metadata": {},
   "outputs": [
    {
     "output_type": "stream",
     "name": "stdout",
     "text": [
      "tf.Tensor(\n[[4.2312217 2.0389304]\n [3.4727798 4.486634 ]\n [2.3664403 4.019904 ]], shape=(3, 2), dtype=float32)\n----------\ntf.Tensor(\n[[4.520811  3.6099358]\n [3.9616013 3.2687683]\n [1.8929887 1.9107614]], shape=(3, 2), dtype=float32)\n----------\ntf.Tensor(\n[[4.2312217+4.520811j  2.0389304+3.6099358j]\n [3.4727798+3.9616013j 4.486634 +3.2687683j]\n [2.3664403+1.8929887j 4.019904 +1.9107614j]], shape=(3, 2), dtype=complex64)\n"
     ]
    }
   ],
   "source": [
    "# Hard way\n",
    "real_mat = tf.random.uniform(shape=(3,2), minval=1, maxval=5)\n",
    "img_mat = tf.random.uniform(shape=(3,2), minval=1, maxval=5)\n",
    "\n",
    "print(real_mat)\n",
    "print(\"----------\")\n",
    "print(img_mat)\n",
    "\n",
    "complex_mat = tf.dtypes.complex(real=real_mat, imag=img_mat)\n",
    "\n",
    "print(\"----------\")\n",
    "print(complex_mat) # notice the 'j' as the stand in for i "
   ]
  },
  {
   "cell_type": "code",
   "execution_count": 27,
   "metadata": {},
   "outputs": [
    {
     "output_type": "execute_result",
     "data": {
      "text/plain": [
       "<tf.Tensor: shape=(2, 3), dtype=complex128, numpy=\n",
       "array([[1.+2.j, 2.+3.j, 3.+4.j],\n",
       "       [4.+5.j, 5.+6.j, 6.+7.j]])>"
      ]
     },
     "metadata": {},
     "execution_count": 27
    }
   ],
   "source": [
    "# easy way\n",
    "\n",
    "complex_mat_2 = tf.constant([1+2j, 2+3j , 3+4j, 4+5j, 5+6j, 6+7j], shape = (2,3))\n",
    "complex_mat_2"
   ]
  },
  {
   "source": [
    "### Transposing Matrices\n",
    "\n",
    "This is just changing the rows to columns and vice versa.  Three main functions:\n",
    "\n",
    "* `tf.transpose`\n",
    "* `tf.adjoint`\n",
    "* `tf.matrix_transpose`\n",
    "\n",
    "All the same outputs for real matrices. Complex is a different story\n"
   ],
   "cell_type": "markdown",
   "metadata": {}
  },
  {
   "cell_type": "code",
   "execution_count": 30,
   "metadata": {},
   "outputs": [
    {
     "output_type": "execute_result",
     "data": {
      "text/plain": [
       "<tf.Tensor: shape=(3, 2), dtype=float32, numpy=\n",
       "array([[4.2312217, 2.0389304],\n",
       "       [3.4727798, 4.486634 ],\n",
       "       [2.3664403, 4.019904 ]], dtype=float32)>"
      ]
     },
     "metadata": {},
     "execution_count": 30
    }
   ],
   "source": [
    "real_mat"
   ]
  },
  {
   "cell_type": "code",
   "execution_count": 34,
   "metadata": {},
   "outputs": [
    {
     "output_type": "stream",
     "name": "stdout",
     "text": [
      "[[4.2312217 3.4727798 2.3664403]\n [2.0389304 4.486634  4.019904 ]]\n---------------------\n[[4.2312217 3.4727798 2.3664403]\n [2.0389304 4.486634  4.019904 ]]\n---------------------\n[[4.2312217 3.4727798 2.3664403]\n [2.0389304 4.486634  4.019904 ]]\n---------------------\n"
     ]
    }
   ],
   "source": [
    "print(tf.transpose(real_mat).numpy())\n",
    "print(\"---------------------\")\n",
    "print(tf.linalg.adjoint(real_mat).numpy())\n",
    "print(\"---------------------\")\n",
    "print(tf.linalg.matrix_transpose(real_mat).numpy())\n",
    "print(\"---------------------\")"
   ]
  },
  {
   "source": [
    "### Complex Transpose\n",
    "\n",
    "For complex matrices, you have to conjugate transpose.  Therefore, you have to change some settings. \n",
    "\n",
    "`conjugate = False ` in `tf.transpose` and the other ones as well"
   ],
   "cell_type": "markdown",
   "metadata": {}
  },
  {
   "cell_type": "code",
   "execution_count": 35,
   "metadata": {},
   "outputs": [
    {
     "output_type": "execute_result",
     "data": {
      "text/plain": [
       "array([[4.2312217+4.520811j , 2.0389304+3.6099358j],\n",
       "       [3.4727798+3.9616013j, 4.486634 +3.2687683j],\n",
       "       [2.3664403+1.8929887j, 4.019904 +1.9107614j]], dtype=complex64)"
      ]
     },
     "metadata": {},
     "execution_count": 35
    }
   ],
   "source": [
    "complex_mat.numpy()"
   ]
  },
  {
   "cell_type": "code",
   "execution_count": 40,
   "metadata": {},
   "outputs": [
    {
     "output_type": "execute_result",
     "data": {
      "text/plain": [
       "<tf.Tensor: shape=(2, 3), dtype=complex64, numpy=\n",
       "array([[4.2312217+4.520811j , 3.4727798+3.9616013j, 2.3664403+1.8929887j],\n",
       "       [2.0389304+3.6099358j, 4.486634 +3.2687683j, 4.019904 +1.9107614j]],\n",
       "      dtype=complex64)>"
      ]
     },
     "metadata": {},
     "execution_count": 40
    }
   ],
   "source": [
    "tf.transpose(complex_mat, conjugate=False)"
   ]
  },
  {
   "source": [
    "### Common Matrices\n",
    "\n",
    "Identity Matrix"
   ],
   "cell_type": "markdown",
   "metadata": {}
  },
  {
   "cell_type": "code",
   "execution_count": 41,
   "metadata": {},
   "outputs": [
    {
     "output_type": "execute_result",
     "data": {
      "text/plain": [
       "<tf.Tensor: shape=(5, 5), dtype=float32, numpy=\n",
       "array([[1., 0., 0., 0., 0.],\n",
       "       [0., 1., 0., 0., 0.],\n",
       "       [0., 0., 1., 0., 0.],\n",
       "       [0., 0., 0., 1., 0.],\n",
       "       [0., 0., 0., 0., 1.]], dtype=float32)>"
      ]
     },
     "metadata": {},
     "execution_count": 41
    }
   ],
   "source": [
    "# Identity Matrix\n",
    "tf.linalg.eye(5)"
   ]
  },
  {
   "cell_type": "code",
   "execution_count": 43,
   "metadata": {},
   "outputs": [
    {
     "output_type": "execute_result",
     "data": {
      "text/plain": [
       "<tf.Tensor: shape=(5, 5), dtype=int32, numpy=\n",
       "array([[1, 0, 0, 0, 0],\n",
       "       [0, 2, 0, 0, 0],\n",
       "       [0, 0, 3, 0, 0],\n",
       "       [0, 0, 0, 4, 0],\n",
       "       [0, 0, 0, 0, 5]])>"
      ]
     },
     "metadata": {},
     "execution_count": 43
    }
   ],
   "source": [
    "# Diagonal Matrix\n",
    "tf.linalg.diag([12,4,2,5,2])\n",
    "# or \n",
    "tf.linalg.tensor_diag(tf.constant([1,2,3,4,5]))"
   ]
  },
  {
   "cell_type": "code",
   "execution_count": 48,
   "metadata": {},
   "outputs": [
    {
     "output_type": "execute_result",
     "data": {
      "text/plain": [
       "<tf.Tensor: shape=(7, 7), dtype=int32, numpy=\n",
       "array([[-1, -1,  1, -1, -1, -1, -1],\n",
       "       [-1, -1, -1,  2, -1, -1, -1],\n",
       "       [-1, -1, -1, -1,  3, -1, -1],\n",
       "       [-1, -1, -1, -1, -1,  4, -1],\n",
       "       [-1, -1, -1, -1, -1, -1,  5],\n",
       "       [-1, -1, -1, -1, -1, -1, -1],\n",
       "       [-1, -1, -1, -1, -1, -1, -1]])>"
      ]
     },
     "metadata": {},
     "execution_count": 48
    }
   ],
   "source": [
    "# Diagonal but offset by one column and you can change the padding value\n",
    "tf.linalg.diag([1,2,3,4,5], k=2, padding_value=-1)"
   ]
  },
  {
   "cell_type": "code",
   "execution_count": 51,
   "metadata": {},
   "outputs": [
    {
     "output_type": "execute_result",
     "data": {
      "text/plain": [
       "<tf.Tensor: shape=(5, 5), dtype=float32, numpy=\n",
       "array([[1., 0., 0., 0., 0.],\n",
       "       [0., 2., 0., 0., 0.],\n",
       "       [0., 0., 3., 0., 0.],\n",
       "       [0., 0., 0., 4., 0.],\n",
       "       [0., 0., 0., 0., 5.]], dtype=float32)>"
      ]
     },
     "metadata": {},
     "execution_count": 51
    }
   ],
   "source": [
    "# You can also set it with values from other matrices\n",
    "# This is very helpful because you can you the tf.constant as an array and a zeros matrix for the main shape\n",
    "mat = tf.zeros((5,5))\n",
    "diag = tf.constant([1,2,3,4,5.])\n",
    "tf.linalg.set_diag(input = mat, diagonal = diag, k = 0)"
   ]
  },
  {
   "cell_type": "code",
   "execution_count": 52,
   "metadata": {},
   "outputs": [
    {
     "output_type": "execute_result",
     "data": {
      "text/plain": [
       "<tf.Tensor: shape=(5, 5), dtype=float32, numpy=\n",
       "array([[ 2., -1.,  0.,  0.,  0.],\n",
       "       [-1.,  2., -1.,  0.,  0.],\n",
       "       [ 0., -1.,  2., -1.,  0.],\n",
       "       [ 0.,  0., -1.,  2., -1.],\n",
       "       [ 0.,  0.,  0., -1.,  2.]], dtype=float32)>"
      ]
     },
     "metadata": {},
     "execution_count": 52
    }
   ],
   "source": [
    "# Tri Diagonal Matrix\n",
    "\n",
    "diags = tf.constant([[-1,-1,-1,-1, 0],\n",
    "                     [ 2, 2, 2, 2, 2],\n",
    "                     [ 0,-1,-1,-1,-1]], dtype = tf.float32)\n",
    "mat = tf.zeros(shape = (5,5))\n",
    "tf.linalg.set_diag(mat,diags, k = (-1,1), align = \"LEFT_RIGHT\")"
   ]
  },
  {
   "cell_type": "code",
   "execution_count": 54,
   "metadata": {},
   "outputs": [
    {
     "output_type": "execute_result",
     "data": {
      "text/plain": [
       "<tf.Tensor: shape=(3, 5), dtype=float32, numpy=\n",
       "array([[1., 1., 1., 1., 1.],\n",
       "       [1., 1., 1., 1., 1.],\n",
       "       [1., 1., 1., 1., 1.]], dtype=float32)>"
      ]
     },
     "metadata": {},
     "execution_count": 54
    }
   ],
   "source": [
    "# Zeros and Ones Matrix\n",
    "\n",
    "tf.zeros((3,5), tf.float32)\n",
    "tf.ones((3,5))"
   ]
  },
  {
   "source": [
    "### Random Matrices\n",
    "\n",
    "Create a matrix of random numbers. They are part of the `tf.random` library.  \n",
    "\n",
    "You can create them using different distributions like\n",
    "\n",
    "* normal\n",
    "* uniform\n",
    "* poisson\n",
    "* gamma"
   ],
   "cell_type": "markdown",
   "metadata": {}
  },
  {
   "cell_type": "code",
   "execution_count": 57,
   "metadata": {},
   "outputs": [
    {
     "output_type": "execute_result",
     "data": {
      "text/plain": [
       "<tf.Tensor: shape=(5, 5), dtype=float32, numpy=\n",
       "array([[1.8858194 , 0.53364575, 1.8997544 , 3.6567426 , 1.4620405 ],\n",
       "       [3.2610579 , 4.785425  , 1.8729126 , 0.9660518 , 1.3561362 ],\n",
       "       [3.9587462 , 0.8455205 , 4.5714307 , 4.9760494 , 4.394902  ],\n",
       "       [2.4055862 , 2.2465467 , 4.5335093 , 2.974832  , 3.0581694 ],\n",
       "       [1.9353604 , 2.7300525 , 0.38688362, 0.44494152, 0.0329411 ]],\n",
       "      dtype=float32)>"
      ]
     },
     "metadata": {},
     "execution_count": 57
    }
   ],
   "source": [
    "tf.random.uniform((5,5), minval=0, maxval=5) # use the seed argument to make sure the same matrix is made each time"
   ]
  },
  {
   "cell_type": "code",
   "execution_count": 59,
   "metadata": {},
   "outputs": [
    {
     "output_type": "execute_result",
     "data": {
      "text/plain": [
       "array([[ 1.327121  ,  1.0613507 ,  2.2341275 ,  4.1196747 ,  1.0428702 ],\n",
       "       [ 5.8011074 ,  2.5636067 ,  2.9757242 , -1.004704  ,  2.649951  ],\n",
       "       [ 4.752168  , -2.8135877 , -3.8011732 ,  0.23634845,  3.0017638 ],\n",
       "       [-1.1294489 , -4.290838  ,  2.0177114 ,  1.6819851 , -0.50452435],\n",
       "       [ 0.38621587,  4.6109133 ,  5.3020124 , -1.6849399 , -0.04004109]],\n",
       "      dtype=float32)"
      ]
     },
     "metadata": {},
     "execution_count": 59
    }
   ],
   "source": [
    "# random normal\n",
    "tf.random.normal((5,5), mean=1, stddev=3).numpy()"
   ]
  },
  {
   "source": [
    "a `truncated_normal` function gives values within two standard deviations of the mean on both sides of the normal curve"
   ],
   "cell_type": "markdown",
   "metadata": {}
  },
  {
   "cell_type": "code",
   "execution_count": 60,
   "metadata": {},
   "outputs": [
    {
     "output_type": "execute_result",
     "data": {
      "text/plain": [
       "<tf.Tensor: shape=(5, 5), dtype=float32, numpy=\n",
       "array([[-0.14924651,  1.5993476 ,  0.32782015, -2.7510984 ,  0.13865246],\n",
       "       [ 1.3621544 , -1.1073085 , -0.91436076, -0.6118494 ,  2.5350814 ],\n",
       "       [-0.90866566, -3.0769534 ,  1.8858134 , -2.437638  , -0.8760907 ],\n",
       "       [-0.43277422, -1.810705  ,  1.2931411 , -1.5736928 , -0.8064038 ],\n",
       "       [ 1.9305236 ,  0.9898891 , -0.48963958,  1.1733874 ,  0.6379427 ]],\n",
       "      dtype=float32)>"
      ]
     },
     "metadata": {},
     "execution_count": 60
    }
   ],
   "source": [
    "tf.random.truncated_normal((5,5), mean=0, stddev=2)"
   ]
  },
  {
   "cell_type": "code",
   "execution_count": 61,
   "metadata": {},
   "outputs": [
    {
     "output_type": "execute_result",
     "data": {
      "text/plain": [
       "<tf.Tensor: shape=(5, 5), dtype=float32, numpy=\n",
       "array([[ 1.178757  ,  6.3228183 ,  1.0097716 ,  2.2629619 ,  4.7941027 ],\n",
       "       [ 7.8373055 ,  0.42433846,  3.5918977 ,  0.42400894,  0.15884995],\n",
       "       [11.289268  ,  0.08977339,  0.04302282,  1.4514136 ,  5.502763  ],\n",
       "       [ 4.5758834 ,  3.4972079 ,  0.6163554 ,  1.138663  ,  6.753884  ],\n",
       "       [ 3.6079593 ,  0.4600183 ,  0.45816118,  5.5687437 ,  0.1225263 ]],\n",
       "      dtype=float32)>"
      ]
     },
     "metadata": {},
     "execution_count": 61
    }
   ],
   "source": [
    "# Poisson and Gamma are also just as easy\n",
    "\n",
    "tf.random.poisson((5,5), lam=2)\n",
    "tf.random.gamma((5,5), alpha=0.7, beta=0.3)"
   ]
  },
  {
   "source": [
    "### MORE MATRICES\n",
    "\n",
    "you can also make `toeplitz`, `circulant`, `Kronecker"
   ],
   "cell_type": "markdown",
   "metadata": {}
  },
  {
   "source": [
    "### Sparse Matrices\n",
    "\n",
    "You have to use the `tf.spare` library.  The first argue is the indices for the values specificed in the second arguement"
   ],
   "cell_type": "markdown",
   "metadata": {}
  },
  {
   "cell_type": "code",
   "execution_count": 65,
   "metadata": {},
   "outputs": [
    {
     "output_type": "execute_result",
     "data": {
      "text/plain": [
       "<tensorflow.python.framework.sparse_tensor.SparseTensor at 0x2e2ea6dde20>"
      ]
     },
     "metadata": {},
     "execution_count": 65
    }
   ],
   "source": [
    "sparse_mat = tf.sparse.SparseTensor([[0,1],[1,3],[3,2]], [-5, -10, 7], dense_shape= (5,5))\n",
    "sparse_mat"
   ]
  },
  {
   "source": [
    "tf.sparse.to_dense(sparse_mat)"
   ],
   "cell_type": "code",
   "metadata": {},
   "execution_count": 66,
   "outputs": [
    {
     "output_type": "execute_result",
     "data": {
      "text/plain": [
       "<tf.Tensor: shape=(5, 5), dtype=int32, numpy=\n",
       "array([[  0,  -5,   0,   0,   0],\n",
       "       [  0,   0,   0, -10,   0],\n",
       "       [  0,   0,   0,   0,   0],\n",
       "       [  0,   0,   7,   0,   0],\n",
       "       [  0,   0,   0,   0,   0]])>"
      ]
     },
     "metadata": {},
     "execution_count": 66
    }
   ]
  },
  {
   "source": [
    " By converting a sparse matrix into a dense one, all its special properties are lost. Therefore, sparse matrices should not be converted into dense ones."
   ],
   "cell_type": "markdown",
   "metadata": {}
  },
  {
   "source": [
    "## Matrix Multiplication\n",
    "\n",
    "You have to use the `tf.linalg.matmul`.  Which is a lot to write. You can also use `tf.matmul`\n",
    "\n",
    "Inputs to `tf.linalg.matmul` are matrices.  Therefore, while multiplying the inputs are matrices.  So while multiplying to arrays, you have to convert them into vectors and then multipled\n",
    "\n",
    "### Two column vectors"
   ],
   "cell_type": "markdown",
   "metadata": {}
  },
  {
   "cell_type": "code",
   "execution_count": 75,
   "metadata": {},
   "outputs": [
    {
     "output_type": "execute_result",
     "data": {
      "text/plain": [
       "array([[30.]], dtype=float32)"
      ]
     },
     "metadata": {},
     "execution_count": 75
    }
   ],
   "source": [
    "v1 = tf.constant([1,2,3,4], shape=(4,1), dtype=tf.float32)\n",
    "v2 = tf.constant([1,2,3,4], shape=(4,1), dtype=tf.float32)\n",
    "\n",
    "tf.matmul(v1,v2,transpose_a=True).numpy() # inner product"
   ]
  },
  {
   "cell_type": "code",
   "execution_count": 76,
   "metadata": {},
   "outputs": [
    {
     "output_type": "execute_result",
     "data": {
      "text/plain": [
       "array([[ 1.,  2.,  3.,  4.],\n",
       "       [ 2.,  4.,  6.,  8.],\n",
       "       [ 3.,  6.,  9., 12.],\n",
       "       [ 4.,  8., 12., 16.]], dtype=float32)"
      ]
     },
     "metadata": {},
     "execution_count": 76
    }
   ],
   "source": [
    "tf.matmul(v1,v2,transpose_b=True).numpy() # inner product"
   ]
  },
  {
   "source": [
    "### Multiplying a matrix and vector\n",
    "\n",
    "You can use `tf.linalg.matvec`.  OR do the long way of converting the vector into a column vector and then apply `tf.matmul`"
   ],
   "cell_type": "markdown",
   "metadata": {}
  },
  {
   "cell_type": "code",
   "execution_count": 78,
   "metadata": {},
   "outputs": [
    {
     "output_type": "execute_result",
     "data": {
      "text/plain": [
       "array([[1., 2., 3.],\n",
       "       [4., 5., 6.]], dtype=float32)"
      ]
     },
     "metadata": {},
     "execution_count": 78
    }
   ],
   "source": [
    "mat_1 = tf.constant([1,2,3,4,5,6],shape = (2,3), dtype = tf.float32)\n",
    "vector_1 = tf.constant([1., 2., 3.], shape = (3,1))\n",
    "mat_1.numpy()"
   ]
  },
  {
   "cell_type": "code",
   "execution_count": 79,
   "metadata": {},
   "outputs": [
    {
     "output_type": "execute_result",
     "data": {
      "text/plain": [
       "array([[14.],\n",
       "       [32.]], dtype=float32)"
      ]
     },
     "metadata": {},
     "execution_count": 79
    }
   ],
   "source": [
    "tf.matmul(a = mat_1, b = vector_1).numpy()"
   ]
  },
  {
   "cell_type": "code",
   "execution_count": 80,
   "metadata": {},
   "outputs": [
    {
     "output_type": "execute_result",
     "data": {
      "text/plain": [
       "<tf.Tensor: shape=(2,), dtype=float32, numpy=array([14., 32.], dtype=float32)>"
      ]
     },
     "metadata": {},
     "execution_count": 80
    }
   ],
   "source": [
    "tf.linalg.matvec(mat_1, tf.constant([1,2,3.]))    # Note the shape of input vector and result."
   ]
  },
  {
   "cell_type": "code",
   "execution_count": 81,
   "metadata": {},
   "outputs": [
    {
     "output_type": "execute_result",
     "data": {
      "text/plain": [
       "array([[0., 0., 0., 0., 0.],\n",
       "       [0., 0., 0., 0., 0.],\n",
       "       [0., 0., 0., 0., 0.],\n",
       "       [0., 0., 0., 0., 0.],\n",
       "       [0., 0., 0., 0., 0.]], dtype=float32)"
      ]
     },
     "metadata": {},
     "execution_count": 81
    }
   ],
   "source": [
    "## Multiplying two matrices\n",
    "\n",
    "tf.linalg.matmul(a = mat, b = mat, transpose_a=True).numpy() # Without `transpose_a` argument, result will be an error."
   ]
  },
  {
   "cell_type": "code",
   "execution_count": null,
   "metadata": {},
   "outputs": [],
   "source": []
  }
 ]
}
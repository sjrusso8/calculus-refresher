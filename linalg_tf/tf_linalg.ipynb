{
 "metadata": {
  "language_info": {
   "codemirror_mode": {
    "name": "ipython",
    "version": 3
   },
   "file_extension": ".py",
   "mimetype": "text/x-python",
   "name": "python",
   "nbconvert_exporter": "python",
   "pygments_lexer": "ipython3",
   "version": "3.8.5-final"
  },
  "orig_nbformat": 2,
  "kernelspec": {
   "name": "python3",
   "display_name": "Python 3.8.5 64-bit ('standardenv': conda)",
   "metadata": {
    "interpreter": {
     "hash": "96b3fd1559923f45a2a7d38e899d8d549575064782cdf1848d466cdc642efcd4"
    }
   }
  }
 },
 "nbformat": 4,
 "nbformat_minor": 2,
 "cells": [
  {
   "source": [
    "# Linear Algebra with Tensorflow\n",
    "\n",
    "Why do this?  \n",
    "\n",
    "I want to get a better understanding of both Tensorflow and Linear Algebra.  So why not both?\n",
    "\n",
    "This is leveraging the tf.linalg followed by the function name.  It's redundant, but w/e.\n",
    "\n",
    "This mainly focuses on 1D and 2D arrays in these examples.  But TF operations are not limited to 2D arrays.  If an array has more than 2 dimensions, the matrix operation is done on the **last two** dimensions and the same operation is carried across other dimensions.  \n",
    "\n",
    "For example a tensor of shape (3,5,5) can be thought of as 3 matrices each of shape (5,5).  When we call a matrix function on an array, the matrix function is applied to all 3 matrices of shape (5,5). The same is true for the higher dims\n"
   ],
   "cell_type": "markdown",
   "metadata": {}
  },
  {
   "cell_type": "code",
   "execution_count": 1,
   "metadata": {},
   "outputs": [
    {
     "output_type": "stream",
     "name": "stdout",
     "text": [
      "2.3.0\n"
     ]
    }
   ],
   "source": [
    "import tensorflow as tf\n",
    "print(tf.__version__)"
   ]
  },
  {
   "source": [
    "## Basic\n",
    "\n",
    "Everything revolved around `tensors`.`Tensors` are characterized by their rank.  Check out this table and the rank.\n",
    "\n",
    "| Tensors      | Rank |\n",
    "| -----------  | ----------- |\n",
    "| Scalars      | Rank 0       |\n",
    "| Vectors      | Rank 1        |\n",
    "| Matrices     | Rank 2       |\n",
    "| 3D array     | Rank 3        |\n",
    "\n",
    "### Creating Tensors\n",
    "Let's get down to business.  Starting from scalars to multi-dim arrays.  Just the real ones."
   ],
   "cell_type": "markdown",
   "metadata": {}
  },
  {
   "cell_type": "code",
   "execution_count": 2,
   "metadata": {},
   "outputs": [
    {
     "output_type": "execute_result",
     "data": {
      "text/plain": [
       "<tf.Tensor: shape=(), dtype=float32, numpy=5.0>"
      ]
     },
     "metadata": {},
     "execution_count": 2
    }
   ],
   "source": [
    "a = tf.constant(5.0)\n",
    "a"
   ]
  },
  {
   "source": [
    "Let's explain out what is shown.\n",
    "\n",
    "1. `tf.Tensor` - this is a TF tensor \n",
    "2. `shape=()` - this is of rank 0 and therefore a scalar\n",
    "3. `dtype=float32` - this defines the type of values, so a floating point value\n",
    "4. `numpy` - this is the actual value of the tensor"
   ],
   "cell_type": "markdown",
   "metadata": {}
  },
  {
   "cell_type": "code",
   "execution_count": null,
   "metadata": {},
   "outputs": [],
   "source": []
  }
 ]
}
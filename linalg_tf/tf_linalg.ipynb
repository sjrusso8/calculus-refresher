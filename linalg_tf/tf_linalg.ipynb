{
 "metadata": {
  "language_info": {
   "codemirror_mode": {
    "name": "ipython",
    "version": 3
   },
   "file_extension": ".py",
   "mimetype": "text/x-python",
   "name": "python",
   "nbconvert_exporter": "python",
   "pygments_lexer": "ipython3",
   "version": "3.8.5-final"
  },
  "orig_nbformat": 2,
  "kernelspec": {
   "name": "python3",
   "display_name": "Python 3.8.5 64-bit ('standardenv': conda)",
   "metadata": {
    "interpreter": {
     "hash": "96b3fd1559923f45a2a7d38e899d8d549575064782cdf1848d466cdc642efcd4"
    }
   }
  }
 },
 "nbformat": 4,
 "nbformat_minor": 2,
 "cells": [
  {
   "source": [
    "# Linear Algebra with Tensorflow\n",
    "\n",
    "Leveraging almost all from this post https://biswajitsahoo1111.github.io/post/doing-linear-algebra-using-tensorflow-2/\n",
    "\n",
    "Why do this?  \n",
    "\n",
    "I want to get a better understanding of both Tensorflow and Linear Algebra.  So why not both?\n",
    "\n",
    "This is leveraging the tf.linalg followed by the function name.  It's redundant, but w/e.\n",
    "\n",
    "This mainly focuses on 1D and 2D arrays in these examples.  But TF operations are not limited to 2D arrays.  If an array has more than 2 dimensions, the matrix operation is done on the **last two** dimensions and the same operation is carried across other dimensions.  \n",
    "\n",
    "For example a tensor of shape (3,5,5) can be thought of as 3 matrices each of shape (5,5).  When we call a matrix function on an array, the matrix function is applied to all 3 matrices of shape (5,5). The same is true for the higher dims\n"
   ],
   "cell_type": "markdown",
   "metadata": {}
  },
  {
   "source": [
    "# Sections\n",
    "\n",
    "- [Basics](#basics)\n",
    "    * [Creating Tensors]\n",
    "    * [Generating Sequences]\n",
    "    * [Modifying a Tensors]\n",
    "- [Matrcies]\n",
    "    * [Creating Complex Matrcies]\n",
    "    * [Transposing Matrcies]\n",
    "    * [Creating Common Matrcies]\n",
    "        * [Identity Matrix]\n",
    "        * [Diagonal Matrix]\n",
    "        * [Tri-diagonal Matrix]\n",
    "        * [Zeros/Ones Matrix]\n",
    "        * [Random Matrices]\n",
    "    * [Sparse Matrcies]\n",
    "- [Matrix Multi]\n",
    "    * [Inner Product]\n",
    "    * [Outer Product]\n",
    "    * [Matrix with a Vector]\n",
    "    * [Matrix with a Matrix]\n",
    "    * [Two Tri-diagonal matrices]\n",
    "- [More Matrix Operations]\n",
    "    * [Trace]\n",
    "    * [Determinant]\n",
    "    * [Rank]\n",
    "    * [Inverse]\n",
    "    * [Extract diagonal of a matrix]\n",
    "    * [Extract band part of a matrix]"
   ],
   "cell_type": "markdown",
   "metadata": {}
  },
  {
   "cell_type": "code",
   "execution_count": 2,
   "metadata": {},
   "outputs": [
    {
     "output_type": "stream",
     "name": "stdout",
     "text": [
      "2.3.0\n"
     ]
    }
   ],
   "source": [
    "import tensorflow as tf\n",
    "print(tf.__version__)"
   ]
  },
  {
   "source": [
    "## Basics\n",
    "\n",
    "Everything revolved around `tensors`.`Tensors` are characterized by their rank.  Check out this table and the rank.\n",
    "\n",
    "| Tensors      | Rank |\n",
    "| -----------  | ----------- |\n",
    "| Scalars      | Rank 0       |\n",
    "| Vectors      | Rank 1        |\n",
    "| Matrices     | Rank 2       |\n",
    "| 3D array     | Rank 3        |\n",
    "\n",
    "### Creating Tensors\n",
    "Let's get down to business.  Starting from scalars to multi-dim arrays.  Just the real ones."
   ],
   "cell_type": "markdown",
   "metadata": {}
  },
  {
   "cell_type": "code",
   "execution_count": 2,
   "metadata": {},
   "outputs": [
    {
     "output_type": "execute_result",
     "data": {
      "text/plain": [
       "<tf.Tensor: shape=(), dtype=float32, numpy=5.0>"
      ]
     },
     "metadata": {},
     "execution_count": 2
    }
   ],
   "source": [
    "a = tf.constant(5.0)\n",
    "a"
   ]
  },
  {
   "source": [
    "Let's explain out what is shown.\n",
    "\n",
    "1. `tf.Tensor` - this is a TF tensor \n",
    "2. `shape=()` - this is of rank 0 and therefore a scalar\n",
    "3. `dtype=float32` - this defines the type of values, so a floating point value\n",
    "4. `numpy` - this is the actual value of the tensor\n",
    "\n",
    "1D `tensors` are vectors while 2D `tensors` are **matrics**"
   ],
   "cell_type": "markdown",
   "metadata": {}
  },
  {
   "source": [
    "tf.constant([1,3,7,9])  # only one shape result is used for vectors"
   ],
   "cell_type": "code",
   "metadata": {},
   "execution_count": 3,
   "outputs": [
    {
     "output_type": "execute_result",
     "data": {
      "text/plain": [
       "<tf.Tensor: shape=(4,), dtype=int32, numpy=array([1, 3, 7, 9])>"
      ]
     },
     "metadata": {},
     "execution_count": 3
    }
   ]
  },
  {
   "cell_type": "code",
   "execution_count": 4,
   "metadata": {},
   "outputs": [
    {
     "output_type": "execute_result",
     "data": {
      "text/plain": [
       "<tf.Tensor: shape=(2, 4), dtype=int32, numpy=\n",
       "array([[1, 2, 3, 4],\n",
       "       [3, 4, 5, 3]])>"
      ]
     },
     "metadata": {},
     "execution_count": 4
    }
   ],
   "source": [
    "tf.constant([[1,2,3,4],\n",
    "            [3,4,5,3]]) # to params are returns as (rows, columns)"
   ]
  },
  {
   "cell_type": "code",
   "execution_count": 5,
   "metadata": {},
   "outputs": [
    {
     "output_type": "execute_result",
     "data": {
      "text/plain": [
       "<tf.Tensor: shape=(2, 3), dtype=int32, numpy=\n",
       "array([[1, 2, 3],\n",
       "       [4, 5, 6]])>"
      ]
     },
     "metadata": {},
     "execution_count": 5
    }
   ],
   "source": [
    "# The one above can also be defined as the following by providing a shape arg\n",
    "tf.constant([1,2,3,4,5,6], shape=(2,3))"
   ]
  },
  {
   "source": [
    "### Creating a sequence of numbers\n",
    "\n",
    "Two main ways to create sequences of numbers in `Tensorflow`.  Functions `tf.range` and `tf.linspace` are used.\n",
    "\n",
    "`Range` is an exclusive operation and will not include the last value in the range specified."
   ],
   "cell_type": "markdown",
   "metadata": {}
  },
  {
   "cell_type": "code",
   "execution_count": 8,
   "metadata": {},
   "outputs": [
    {
     "output_type": "execute_result",
     "data": {
      "text/plain": [
       "array([1, 2, 3, 4, 5, 6, 7, 8, 9])"
      ]
     },
     "metadata": {},
     "execution_count": 8
    }
   ],
   "source": [
    "seq = tf.range(start=1, limit=10, delta=1)\n",
    "seq.numpy()"
   ]
  },
  {
   "cell_type": "code",
   "execution_count": 9,
   "metadata": {},
   "outputs": [
    {
     "output_type": "execute_result",
     "data": {
      "text/plain": [
       "array([ 1. ,  2.5,  4. ,  5.5,  7. ,  8.5, 10. , 11.5, 13. , 14.5, 16. ,\n",
       "       17.5, 19. , 20.5], dtype=float32)"
      ]
     },
     "metadata": {},
     "execution_count": 9
    }
   ],
   "source": [
    "seq = tf.range(start=1, limit=22, delta=1.5)\n",
    "seq.numpy()"
   ]
  },
  {
   "cell_type": "code",
   "execution_count": 14,
   "metadata": {},
   "outputs": [
    {
     "output_type": "execute_result",
     "data": {
      "text/plain": [
       "array([ 1.   ,  1.375,  1.75 ,  2.125,  2.5  ,  2.875,  3.25 ,  3.625,\n",
       "        4.   ,  4.375,  4.75 ,  5.125,  5.5  ,  5.875,  6.25 ,  6.625,\n",
       "        7.   ,  7.375,  7.75 ,  8.125,  8.5  ,  8.875,  9.25 ,  9.625,\n",
       "       10.   ], dtype=float32)"
      ]
     },
     "metadata": {},
     "execution_count": 14
    }
   ],
   "source": [
    "tf.linspace(start = 1.0, stop = 10, num = 25).numpy() "
   ]
  },
  {
   "source": [
    "Therefore, it's really easy to create matrices using `range` or `linspace`"
   ],
   "cell_type": "markdown",
   "metadata": {}
  },
  {
   "cell_type": "code",
   "execution_count": 15,
   "metadata": {},
   "outputs": [
    {
     "output_type": "execute_result",
     "data": {
      "text/plain": [
       "<tf.Tensor: shape=(2, 3, 2), dtype=int32, numpy=\n",
       "array([[[ 1,  2],\n",
       "        [ 3,  4],\n",
       "        [ 5,  6]],\n",
       "\n",
       "       [[ 7,  8],\n",
       "        [ 9, 10],\n",
       "        [11, 12]]])>"
      ]
     },
     "metadata": {},
     "execution_count": 15
    }
   ],
   "source": [
    "tf.constant(tf.range(1,13), shape=(2,3,2)) # read like 2 matricies of 3 rows and 2 columns"
   ]
  },
  {
   "source": [
    "### Slicing Tensors\n",
    "\n",
    "This is very similar to `numpy` slicing.  By using the `[]` at the end of the vector, you can slice by row/columns"
   ],
   "cell_type": "markdown",
   "metadata": {}
  },
  {
   "cell_type": "code",
   "execution_count": 17,
   "metadata": {},
   "outputs": [
    {
     "output_type": "execute_result",
     "data": {
      "text/plain": [
       "array([4, 5, 6, 7])"
      ]
     },
     "metadata": {},
     "execution_count": 17
    }
   ],
   "source": [
    "tf.range(1,10)[3:7].numpy() # same as the python convention of slicing.  It starts at 0 for incrementing"
   ]
  },
  {
   "cell_type": "code",
   "execution_count": 18,
   "metadata": {},
   "outputs": [
    {
     "output_type": "execute_result",
     "data": {
      "text/plain": [
       "<tf.Tensor: shape=(4, 5), dtype=float32, numpy=\n",
       "array([[ 0.,  1.,  2.,  3.,  4.],\n",
       "       [ 5.,  6.,  7.,  8.,  9.],\n",
       "       [10., 11., 12., 13., 14.],\n",
       "       [15., 16., 17., 18., 19.]], dtype=float32)>"
      ]
     },
     "metadata": {},
     "execution_count": 18
    }
   ],
   "source": [
    "m = tf.constant(tf.range(20, dtype=tf.float32), shape=(4,5))\n",
    "m"
   ]
  },
  {
   "cell_type": "code",
   "execution_count": 19,
   "metadata": {},
   "outputs": [
    {
     "output_type": "execute_result",
     "data": {
      "text/plain": [
       "<tf.Tensor: shape=(2, 2), dtype=float32, numpy=\n",
       "array([[ 7.,  8.],\n",
       "       [12., 13.]], dtype=float32)>"
      ]
     },
     "metadata": {},
     "execution_count": 19
    }
   ],
   "source": [
    "m[1:3, 2:4]"
   ]
  },
  {
   "source": [
    "### Modifying the elements of a tensor\n",
    "\n",
    "`Tensors` are mostly immutable.  So assigning a new value by position will result in an error.\n",
    "\n",
    "`Variable Tensors`, also defined as `tf.Variable`, can be modified after their creation.  So if you want to modify a tensor after the creation, then you must assign it to a variable.  You can also use the `assign` command."
   ],
   "cell_type": "markdown",
   "metadata": {}
  },
  {
   "cell_type": "code",
   "execution_count": 22,
   "metadata": {},
   "outputs": [
    {
     "output_type": "execute_result",
     "data": {
      "text/plain": [
       "<tf.Variable 'Variable:0' shape=(3, 4) dtype=float32, numpy=\n",
       "array([[ 0.,  1.,  2.,  3.],\n",
       "       [ 4.,  5.,  6.,  7.],\n",
       "       [ 8.,  9., 10., 11.]], dtype=float32)>"
      ]
     },
     "metadata": {},
     "execution_count": 22
    }
   ],
   "source": [
    "var_mt = tf.Variable(tf.constant(tf.range(12, dtype=tf.float32), shape=(3,4)))\n",
    "var_mt"
   ]
  },
  {
   "cell_type": "code",
   "execution_count": 23,
   "metadata": {},
   "outputs": [
    {
     "output_type": "execute_result",
     "data": {
      "text/plain": [
       "<tf.Variable 'Variable:0' shape=(3, 4) dtype=float32, numpy=\n",
       "array([[ 0.,  1., -1., -1.],\n",
       "       [ 4.,  5., -1., -1.],\n",
       "       [ 8.,  9., 10., 11.]], dtype=float32)>"
      ]
     },
     "metadata": {},
     "execution_count": 23
    }
   ],
   "source": [
    "# modify the matrix\n",
    "\n",
    "var_mt[:2, 2:4].assign(-1*tf.ones(shape=(2,2)))\n",
    "var_mt"
   ]
  },
  {
   "source": [
    "## Matrices\n",
    "### Creating complex matrices\n",
    "\n",
    "To create a complex matrix, you create the rale part and the imaginary part seperately. Then both real and imagine parts can be combined element wise to create a complex matrix.  Elements of both should be floats.\n",
    "\n",
    "There is an easy way and a hard way"
   ],
   "cell_type": "markdown",
   "metadata": {}
  },
  {
   "cell_type": "code",
   "execution_count": 25,
   "metadata": {},
   "outputs": [
    {
     "output_type": "stream",
     "name": "stdout",
     "text": [
      "tf.Tensor(\n[[4.2312217 2.0389304]\n [3.4727798 4.486634 ]\n [2.3664403 4.019904 ]], shape=(3, 2), dtype=float32)\n----------\ntf.Tensor(\n[[4.520811  3.6099358]\n [3.9616013 3.2687683]\n [1.8929887 1.9107614]], shape=(3, 2), dtype=float32)\n----------\ntf.Tensor(\n[[4.2312217+4.520811j  2.0389304+3.6099358j]\n [3.4727798+3.9616013j 4.486634 +3.2687683j]\n [2.3664403+1.8929887j 4.019904 +1.9107614j]], shape=(3, 2), dtype=complex64)\n"
     ]
    }
   ],
   "source": [
    "# Hard way\n",
    "real_mat = tf.random.uniform(shape=(3,2), minval=1, maxval=5)\n",
    "img_mat = tf.random.uniform(shape=(3,2), minval=1, maxval=5)\n",
    "\n",
    "print(real_mat)\n",
    "print(\"----------\")\n",
    "print(img_mat)\n",
    "\n",
    "complex_mat = tf.dtypes.complex(real=real_mat, imag=img_mat)\n",
    "\n",
    "print(\"----------\")\n",
    "print(complex_mat) # notice the 'j' as the stand in for i "
   ]
  },
  {
   "cell_type": "code",
   "execution_count": 27,
   "metadata": {},
   "outputs": [
    {
     "output_type": "execute_result",
     "data": {
      "text/plain": [
       "<tf.Tensor: shape=(2, 3), dtype=complex128, numpy=\n",
       "array([[1.+2.j, 2.+3.j, 3.+4.j],\n",
       "       [4.+5.j, 5.+6.j, 6.+7.j]])>"
      ]
     },
     "metadata": {},
     "execution_count": 27
    }
   ],
   "source": [
    "# easy way\n",
    "\n",
    "complex_mat_2 = tf.constant([1+2j, 2+3j , 3+4j, 4+5j, 5+6j, 6+7j], shape = (2,3))\n",
    "complex_mat_2"
   ]
  },
  {
   "source": [
    "### Transposing Matrices\n",
    "\n",
    "This is just changing the rows to columns and vice versa.  Three main functions:\n",
    "\n",
    "* `tf.transpose`\n",
    "* `tf.adjoint`\n",
    "* `tf.matrix_transpose`\n",
    "\n",
    "All the same outputs for real matrices. Complex is a different story\n"
   ],
   "cell_type": "markdown",
   "metadata": {}
  },
  {
   "cell_type": "code",
   "execution_count": 30,
   "metadata": {},
   "outputs": [
    {
     "output_type": "execute_result",
     "data": {
      "text/plain": [
       "<tf.Tensor: shape=(3, 2), dtype=float32, numpy=\n",
       "array([[4.2312217, 2.0389304],\n",
       "       [3.4727798, 4.486634 ],\n",
       "       [2.3664403, 4.019904 ]], dtype=float32)>"
      ]
     },
     "metadata": {},
     "execution_count": 30
    }
   ],
   "source": [
    "real_mat"
   ]
  },
  {
   "cell_type": "code",
   "execution_count": 34,
   "metadata": {},
   "outputs": [
    {
     "output_type": "stream",
     "name": "stdout",
     "text": [
      "[[4.2312217 3.4727798 2.3664403]\n [2.0389304 4.486634  4.019904 ]]\n---------------------\n[[4.2312217 3.4727798 2.3664403]\n [2.0389304 4.486634  4.019904 ]]\n---------------------\n[[4.2312217 3.4727798 2.3664403]\n [2.0389304 4.486634  4.019904 ]]\n---------------------\n"
     ]
    }
   ],
   "source": [
    "print(tf.transpose(real_mat).numpy())\n",
    "print(\"---------------------\")\n",
    "print(tf.linalg.adjoint(real_mat).numpy())\n",
    "print(\"---------------------\")\n",
    "print(tf.linalg.matrix_transpose(real_mat).numpy())\n",
    "print(\"---------------------\")"
   ]
  },
  {
   "source": [
    "### Complex Transpose\n",
    "\n",
    "For complex matrices, you have to conjugate transpose.  Therefore, you have to change some settings. \n",
    "\n",
    "`conjugate = False ` in `tf.transpose` and the other ones as well"
   ],
   "cell_type": "markdown",
   "metadata": {}
  },
  {
   "cell_type": "code",
   "execution_count": null,
   "metadata": {},
   "outputs": [],
   "source": []
  }
 ]
}